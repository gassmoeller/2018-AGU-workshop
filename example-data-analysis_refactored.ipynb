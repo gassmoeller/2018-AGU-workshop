{
 "cells": [
  {
   "cell_type": "markdown",
   "metadata": {},
   "source": [
    "# Example data analysis notebook\n",
    "\n",
    "This notebook downloads and analyses some surface air temperature anomaly data from [Berkeley Earth](http://berkeleyearth.org/)."
   ]
  },
  {
   "cell_type": "markdown",
   "metadata": {},
   "source": [
    "Import the required libraries."
   ]
  },
  {
   "cell_type": "code",
   "execution_count": 1,
   "metadata": {},
   "outputs": [],
   "source": [
    "import matplotlib.pyplot as plt\n",
    "import numpy as np\n",
    "import requests\n",
    "\n",
    "from data_analysis import download_data, moving_average"
   ]
  },
  {
   "cell_type": "markdown",
   "metadata": {},
   "source": [
    "Use the [requests](http://docs.python-requests.org/) library to download the data file for Australia."
   ]
  },
  {
   "cell_type": "code",
   "execution_count": 2,
   "metadata": {},
   "outputs": [],
   "source": [
    "def build_url(country):\n",
    "    \"Build a Berkeley Earth URL to download data\"\n",
    "    url = f'http://berkeleyearth.lbl.gov/auto/Regional/TAVG/Text/{country.lower()}-TAVG-Trend.txt'\n",
    "    return url"
   ]
  },
  {
   "cell_type": "markdown",
   "metadata": {},
   "source": [
    "Make a function to download and load the data for a given country."
   ]
  },
  {
   "cell_type": "code",
   "execution_count": 3,
   "metadata": {},
   "outputs": [
    {
     "data": {
      "text/plain": [
       "array([[ 1.852e+03,  7.000e+00, -1.840e-01, ...,        nan,        nan,\n",
       "               nan],\n",
       "       [ 1.852e+03,  8.000e+00, -5.900e-01, ...,        nan,        nan,\n",
       "               nan],\n",
       "       [ 1.852e+03,  9.000e+00, -4.500e-01, ...,        nan,        nan,\n",
       "               nan],\n",
       "       ...,\n",
       "       [ 2.013e+03,  7.000e+00,  1.633e+00, ...,        nan,        nan,\n",
       "               nan],\n",
       "       [ 2.013e+03,  8.000e+00,  1.828e+00, ...,        nan,        nan,\n",
       "               nan],\n",
       "       [ 2.013e+03,  9.000e+00,        nan, ...,        nan,        nan,\n",
       "               nan]])"
      ]
     },
     "execution_count": 3,
     "metadata": {},
     "output_type": "execute_result"
    }
   ],
   "source": [
    "data = download_data(\"Australia\")\n",
    "data"
   ]
  },
  {
   "cell_type": "markdown",
   "metadata": {},
   "source": [
    "Extract the monthly temperature anomaly and calculate an approximate \"decimal year\" to use in plotting."
   ]
  },
  {
   "cell_type": "code",
   "execution_count": null,
   "metadata": {},
   "outputs": [],
   "source": [
    "def extract_monthly_anomaly(data):\n",
    "    \"Extract the monthly anomaly from the data array and calculate a decimal year.\"\n",
    "    decimal_year = data[:, 0] + 1/12*(data[:, 1] - 1)\n",
    "    anomaly = data[:, 2]\n",
    "    return decimal_year, anomaly"
   ]
  },
  {
   "cell_type": "code",
   "execution_count": null,
   "metadata": {},
   "outputs": [],
   "source": [
    "decimal_year, temperature_anomaly = extract_monthly_anomaly(data)"
   ]
  },
  {
   "cell_type": "markdown",
   "metadata": {},
   "source": [
    "Plot the data so we can see what it's like."
   ]
  },
  {
   "cell_type": "code",
   "execution_count": null,
   "metadata": {},
   "outputs": [],
   "source": [
    "plt.figure(figsize=(10, 6))\n",
    "plt.title(\"Temperature anomaly for Australia\")\n",
    "plt.plot(decimal_year, temperature_anomaly)\n",
    "plt.xlabel('year')\n",
    "plt.ylabel('temperature anomaly (C)')\n",
    "plt.grid()\n",
    "plt.xlim(decimal_year.min(), decimal_year.max())"
   ]
  },
  {
   "cell_type": "markdown",
   "metadata": {},
   "source": [
    "The data are kind of noisy at this scale so let's calculate a 12-month moving average for a smoother time series."
   ]
  },
  {
   "cell_type": "code",
   "execution_count": null,
   "metadata": {},
   "outputs": [],
   "source": [
    "def moving_average(data, window_size):\n",
    "    \"Calculate a moving average over 1D data using the given window size\"\n",
    "    average = np.full(data.size, np.nan)\n",
    "    half_window = window_size // 2\n",
    "    for i in range(half_window, data.size - half_window):\n",
    "        average[i] = np.mean(data[i - half_window : i + half_window])\n",
    "    return average"
   ]
  },
  {
   "cell_type": "code",
   "execution_count": null,
   "metadata": {},
   "outputs": [],
   "source": [
    "moving_avg = moving_average(temperature_anomaly, window_size=12)"
   ]
  },
  {
   "cell_type": "code",
   "execution_count": null,
   "metadata": {},
   "outputs": [],
   "source": [
    "plt.figure(figsize=(10, 6))\n",
    "plt.title(\"Temperature anomaly for Australia\")\n",
    "plt.plot(decimal_year, temperature_anomaly, label=\"anomaly\")\n",
    "plt.plot(decimal_year, moving_avg, label=\"12-month moving average\", linewidth=3)\n",
    "plt.xlabel('year')\n",
    "plt.ylabel('temperature anomaly (C)')\n",
    "plt.legend()\n",
    "plt.grid()\n",
    "plt.xlim(decimal_year.min(), decimal_year.max())"
   ]
  },
  {
   "cell_type": "code",
   "execution_count": null,
   "metadata": {},
   "outputs": [],
   "source": [
    "def test_moving_average():\n",
    "    avg = moving_average(np.ones(10),4)\n",
    "    assert np.any(np.isnan(avg))\n",
    "    assert np.allclose(avg[3],1.0)\n",
    "    return"
   ]
  },
  {
   "cell_type": "code",
   "execution_count": null,
   "metadata": {},
   "outputs": [],
   "source": [
    "test_moving_average()"
   ]
  },
  {
   "cell_type": "code",
   "execution_count": null,
   "metadata": {},
   "outputs": [],
   "source": []
  }
 ],
 "metadata": {
  "kernelspec": {
   "display_name": "Python 3",
   "language": "python",
   "name": "python3"
  },
  "language_info": {
   "codemirror_mode": {
    "name": "ipython",
    "version": 3
   },
   "file_extension": ".py",
   "mimetype": "text/x-python",
   "name": "python",
   "nbconvert_exporter": "python",
   "pygments_lexer": "ipython3",
   "version": "3.7.0"
  }
 },
 "nbformat": 4,
 "nbformat_minor": 2
}
